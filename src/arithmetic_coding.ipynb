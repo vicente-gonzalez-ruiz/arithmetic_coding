{
 "cells": [
  {
   "cell_type": "markdown",
   "id": "44ac35f0",
   "metadata": {},
   "source": [
    "# Arithmetic Coding"
   ]
  },
  {
   "cell_type": "code",
   "execution_count": null,
   "id": "59428743",
   "metadata": {},
   "outputs": [],
   "source": [
    "#!make -C ~/repos/bit_io\n",
    "#!ln -sf ~/repos/bit_io/bit_io.py .\n",
    "!pip install --ignore-installed \"bit_IO @ git+https://github.com/vicente-gonzalez-ruiz/bit_IO\""
   ]
  },
  {
   "cell_type": "code",
   "execution_count": null,
   "id": "c3b21e70-bd60-4fdb-bb76-93294f5f1d3f",
   "metadata": {},
   "outputs": [],
   "source": [
    "from arithmetic_coding import arithmetic_coding"
   ]
  },
  {
   "cell_type": "code",
   "execution_count": null,
   "id": "1c286250",
   "metadata": {},
   "outputs": [],
   "source": [
    "import random\n",
    "f = open(\"/tmp/ac\", \"wb\")\n",
    "\n",
    "# The probabilistic model has \"alphabet_size + 1\" entries,\n",
    "# and PDF[0] is the cummulative count of all the symbols.\n",
    "PDF = [2, 1, 0]\n",
    "\n",
    "encoder = arithmetic_coding.Arithmetic_Encoding()\n",
    "for i in range(320):\n",
    "    bit = random.randrange(2)\n",
    "    encoder.encode_symbol(bit, PDF, f)\n",
    "    print(bit, end='')\n",
    "print()\n",
    "encoder.flush(f)\n",
    "f.close()\n",
    "!hexdump -C /tmp/ac\n",
    "f = open(\"/tmp/ac\", \"rb\")\n",
    "decoder = arithmetic_coding.Arithmetic_Decoding()\n",
    "decoder.init(f)\n",
    "for i in range(320):\n",
    "    bit = decoder.decode_symbol(PDF, f)\n",
    "    print(bit, end='')"
   ]
  }
 ],
 "metadata": {
  "kernelspec": {
   "display_name": "Python 3 (ipykernel)",
   "language": "python",
   "name": "python3"
  },
  "language_info": {
   "codemirror_mode": {
    "name": "ipython",
    "version": 3
   },
   "file_extension": ".py",
   "mimetype": "text/x-python",
   "name": "python",
   "nbconvert_exporter": "python",
   "pygments_lexer": "ipython3",
   "version": "3.12.2"
  }
 },
 "nbformat": 4,
 "nbformat_minor": 5
}
